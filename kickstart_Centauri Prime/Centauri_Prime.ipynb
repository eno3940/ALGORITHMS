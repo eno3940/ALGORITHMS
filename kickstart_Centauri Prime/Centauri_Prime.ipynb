{
 "cells": [
  {
   "cell_type": "code",
   "execution_count": 11,
   "metadata": {},
   "outputs": [
    {
     "name": "stdout",
     "output_type": "stream",
     "text": [
      "Case #1: Zizily is ruled by nobody.\n",
      "Case #2: ZizilY is ruled by nobody.\n"
     ]
    }
   ],
   "source": [
    "def get_ruler(kingdom):\n",
    "  ruler = ''\n",
    "  vowels=['A', 'E', 'I', 'O', 'U', 'a', 'e', 'i', 'o', 'u']\n",
    "  for vowel in vowels:\n",
    "    if kingdom.endswith(vowel):\n",
    "        ruler=\"Alice\"\n",
    "  if kingdom.endswith('y') or kingdom.endswith('Y'):\n",
    "      ruler='nobody'\n",
    "  if ruler=='':\n",
    "      ruler=\"Bob\"\n",
    "  return ruler\n",
    "\n",
    "def main():\n",
    "  T = int(input())\n",
    "  for t in range(T):\n",
    "    kingdom = input()\n",
    "    print('Case #%d: %s is ruled by %s.' % (t + 1, kingdom, get_ruler(kingdom)))\n",
    "\n",
    "if __name__ == '__main__':\n",
    "  main()\n",
    "  \n",
    " "
   ]
  },
  {
   "cell_type": "code",
   "execution_count": null,
   "metadata": {},
   "outputs": [],
   "source": [
    "3\n",
    "Mollaristan\n",
    "Auritania\n",
    "Zizily"
   ]
  },
  {
   "cell_type": "markdown",
   "metadata": {},
   "source": [
    "모범답안"
   ]
  },
  {
   "cell_type": "code",
   "execution_count": null,
   "metadata": {},
   "outputs": [],
   "source": [
    "def get_ruler(kingdom):\n",
    "  ruler = 'Bob'\n",
    "  who = kingdom[-1:].lower()\n",
    "  if who == 'y':\n",
    "    ruler = 'nobody'\n",
    "  elif who == 'a' or who == 'e' or who == 'i' or who == 'o' or who == 'u':\n",
    "    ruler = 'Alice'\n",
    "  return ruler\n",
    "\n",
    "def main():\n",
    "  # Get the number of test cases\n",
    "  T = int(input())\n",
    "  for t in range(T):\n",
    "    # Get the kingdom\n",
    "    kingdom = input()\n",
    "    print('Case #%d: %s is ruled by %s.' % (t + 1, kingdom, get_ruler(kingdom)))\n",
    "\n",
    "if __name__ == '__main__':\n",
    "  main()"
   ]
  }
 ],
 "metadata": {
  "kernelspec": {
   "display_name": "Python 3 (ipykernel)",
   "language": "python",
   "name": "python3"
  },
  "language_info": {
   "codemirror_mode": {
    "name": "ipython",
    "version": 3
   },
   "file_extension": ".py",
   "mimetype": "text/x-python",
   "name": "python",
   "nbconvert_exporter": "python",
   "pygments_lexer": "ipython3",
   "version": "3.9.10"
  },
  "vscode": {
   "interpreter": {
    "hash": "aee8b7b246df8f9039afb4144a1f6fd8d2ca17a180786b69acc140d282b71a49"
   }
  }
 },
 "nbformat": 4,
 "nbformat_minor": 2
}
